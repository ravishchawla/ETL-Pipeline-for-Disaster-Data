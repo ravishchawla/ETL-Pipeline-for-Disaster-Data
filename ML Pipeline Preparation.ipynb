{
 "cells": [
  {
   "cell_type": "markdown",
   "metadata": {},
   "source": [
    "# ML Pipeline Preparation\n",
    "Follow the instructions below to help you create your ML pipeline.\n",
    "### 1. Import libraries and load data from database.\n",
    "- Import Python libraries\n",
    "- Load dataset from database with [`read_sql_table`](https://pandas.pydata.org/pandas-docs/stable/generated/pandas.read_sql_table.html)\n",
    "- Define feature and target variables X and Y"
   ]
  },
  {
   "cell_type": "code",
   "execution_count": 15,
   "metadata": {},
   "outputs": [],
   "source": [
    "# import libraries\n",
    "import pandas as pd;\n",
    "from sqlalchemy import create_engine;\n",
    "import re;\n",
    "from nltk import word_tokenize, pos_tag;\n",
    "from nltk.corpus import stopwords;\n",
    "from nltk.stem.wordnet import WordNetLemmatizer;\n",
    "from sklearn.pipeline import Pipeline;\n",
    "from sklearn.feature_extraction.text import CountVectorizer, TfidfTransformer;\n",
    "from sklearn.ensemble import RandomForestClassifier;\n",
    "from sklearn.multioutput import MultiOutputClassifier;\n",
    "from sklearn.cross_validation import train_test_split;\n",
    "import seaborn as sns;\n",
    "import numpy as np;"
   ]
  },
  {
   "cell_type": "code",
   "execution_count": 2,
   "metadata": {},
   "outputs": [
    {
     "name": "stdout",
     "output_type": "stream",
     "text": [
      "[nltk_data] Downloading package stopwords to /root/nltk_data...\n",
      "[nltk_data]   Unzipping corpora/stopwords.zip.\n",
      "[nltk_data] Downloading package wordnet to /root/nltk_data...\n",
      "[nltk_data]   Unzipping corpora/wordnet.zip.\n",
      "[nltk_data] Downloading package punkt to /root/nltk_data...\n",
      "[nltk_data]   Unzipping tokenizers/punkt.zip.\n"
     ]
    },
    {
     "data": {
      "text/plain": [
       "True"
      ]
     },
     "execution_count": 2,
     "metadata": {},
     "output_type": "execute_result"
    }
   ],
   "source": [
    "import nltk;\n",
    "nltk.download('stopwords')\n",
    "nltk.download('wordnet')\n",
    "nltk.download('punkt')"
   ]
  },
  {
   "cell_type": "code",
   "execution_count": 3,
   "metadata": {},
   "outputs": [],
   "source": [
    "# load data from database\n",
    "engine = create_engine('sqlite:///figure_eight.db')\n",
    "conn = engine.connect();\n",
    "df = pd.read_sql('select * from disaster_data_cleaned', conn)\n",
    "X = df['message']\n",
    "Y = df.select_dtypes('int64').drop('id', axis=1)"
   ]
  },
  {
   "cell_type": "code",
   "execution_count": 4,
   "metadata": {},
   "outputs": [
    {
     "name": "stdout",
     "output_type": "stream",
     "text": [
      "X shape : (26216,)\n",
      "Y shape : (26216, 36)\n"
     ]
    }
   ],
   "source": [
    "print('X shape :', X.shape)\n",
    "print('Y shape :', Y.shape)"
   ]
  },
  {
   "cell_type": "markdown",
   "metadata": {},
   "source": [
    "### 2. Write a tokenization function to process your text data"
   ]
  },
  {
   "cell_type": "code",
   "execution_count": 5,
   "metadata": {},
   "outputs": [],
   "source": [
    "word_net = WordNetLemmatizer();"
   ]
  },
  {
   "cell_type": "code",
   "execution_count": 6,
   "metadata": {},
   "outputs": [],
   "source": [
    "def tokenize(text):\n",
    "    # lower case and remove punctuation\n",
    "    text = re.sub(r\"[^a-zA-Z0-9]\", \" \", text.lower());\n",
    "    words = word_tokenize(text);\n",
    "    words = [word for word in words if word not in stopwords.words('english')];\n",
    "    lemmed = [word_net.lemmatize(word) for word in words];\n",
    "    return lemmed;"
   ]
  },
  {
   "cell_type": "code",
   "execution_count": 7,
   "metadata": {},
   "outputs": [
    {
     "data": {
      "text/plain": [
       "['sun',\n",
       " 'rise',\n",
       " 'west',\n",
       " 'set',\n",
       " 'east',\n",
       " 'sea',\n",
       " 'go',\n",
       " 'dry',\n",
       " 'mountain',\n",
       " 'blow',\n",
       " 'wind',\n",
       " 'like',\n",
       " 'leaf']"
      ]
     },
     "execution_count": 7,
     "metadata": {},
     "output_type": "execute_result"
    }
   ],
   "source": [
    "tokenize('when the sun rises in the west and sets in the east, when the seas go dry and the mountains blow in the winds like leaves')"
   ]
  },
  {
   "cell_type": "markdown",
   "metadata": {},
   "source": [
    "### 3. Build a machine learning pipeline\n",
    "This machine pipeline should take in the `message` column as input and output classification results on the other 36 categories in the dataset. You may find the [MultiOutputClassifier](http://scikit-learn.org/stable/modules/generated/sklearn.multioutput.MultiOutputClassifier.html) helpful for predicting multiple target variables."
   ]
  },
  {
   "cell_type": "code",
   "execution_count": 8,
   "metadata": {},
   "outputs": [],
   "source": [
    "forest = RandomForestClassifier(n_estimators=10, random_state=1024);\n",
    "pipeline = Pipeline([('count', CountVectorizer(tokenizer=tokenize)),\n",
    "                     ('tfidf', TfidfTransformer()),\n",
    "                     ('model', MultiOutputClassifier(estimator=forest, n_jobs=1))\n",
    "                    ]);"
   ]
  },
  {
   "cell_type": "markdown",
   "metadata": {},
   "source": [
    "### 4. Train pipeline\n",
    "- Split data into train and test sets\n",
    "- Train pipeline"
   ]
  },
  {
   "cell_type": "code",
   "execution_count": 9,
   "metadata": {},
   "outputs": [],
   "source": [
    "X_train, X_test, Y_train, Y_test = train_test_split(X, Y, test_size=0.33, random_state=1024);"
   ]
  },
  {
   "cell_type": "code",
   "execution_count": 10,
   "metadata": {},
   "outputs": [],
   "source": [
    "pipeline.fit(X_train, Y_train);"
   ]
  },
  {
   "cell_type": "markdown",
   "metadata": {},
   "source": [
    "### 5. Test your model\n",
    "Report the f1 score, precision and recall for each output category of the dataset. You can do this by iterating through the columns and calling sklearn's `classification_report` on each."
   ]
  },
  {
   "cell_type": "code",
   "execution_count": 11,
   "metadata": {},
   "outputs": [],
   "source": [
    "Y_preds = pipeline.predict(X_test);\n",
    "Y_preds = pd.DataFrame(Y_preds);\n",
    "Y_preds.columns = Y_test.columns;\n",
    "Y_preds.index = Y_test.index;"
   ]
  },
  {
   "cell_type": "code",
   "execution_count": 12,
   "metadata": {
    "scrolled": true
   },
   "outputs": [
    {
     "name": "stdout",
     "output_type": "stream",
     "text": [
      "Column :  related\n",
      "             precision    recall  f1-score   support\n",
      "\n",
      "          0       0.62      0.47      0.53      2005\n",
      "          1       0.85      0.91      0.88      6585\n",
      "          2       0.40      0.37      0.38        62\n",
      "\n",
      "avg / total       0.79      0.80      0.79      8652\n",
      "\n",
      "Column :  request\n",
      "             precision    recall  f1-score   support\n",
      "\n",
      "          0       0.89      0.98      0.93      7154\n",
      "          1       0.80      0.44      0.57      1498\n",
      "\n",
      "avg / total       0.88      0.88      0.87      8652\n",
      "\n",
      "Column :  offer\n",
      "             precision    recall  f1-score   support\n",
      "\n",
      "          0       1.00      1.00      1.00      8615\n",
      "          1       0.00      0.00      0.00        37\n",
      "\n",
      "avg / total       0.99      1.00      0.99      8652\n",
      "\n",
      "Column :  aid_related\n",
      "             precision    recall  f1-score   support\n",
      "\n",
      "          0       0.76      0.85      0.80      5056\n",
      "          1       0.74      0.61      0.67      3596\n",
      "\n",
      "avg / total       0.75      0.75      0.75      8652\n",
      "\n",
      "Column :  medical_help\n",
      "             precision    recall  f1-score   support\n",
      "\n",
      "          0       0.93      0.99      0.96      7977\n",
      "          1       0.55      0.08      0.15       675\n",
      "\n",
      "avg / total       0.90      0.92      0.90      8652\n",
      "\n",
      "Column :  medical_products\n",
      "             precision    recall  f1-score   support\n",
      "\n",
      "          0       0.96      1.00      0.98      8246\n",
      "          1       0.68      0.13      0.22       406\n",
      "\n",
      "avg / total       0.95      0.96      0.94      8652\n",
      "\n",
      "Column :  search_and_rescue\n",
      "             precision    recall  f1-score   support\n",
      "\n",
      "          0       0.97      1.00      0.99      8397\n",
      "          1       0.70      0.03      0.05       255\n",
      "\n",
      "avg / total       0.96      0.97      0.96      8652\n",
      "\n",
      "Column :  security\n",
      "             precision    recall  f1-score   support\n",
      "\n",
      "          0       0.98      1.00      0.99      8515\n",
      "          1       0.50      0.01      0.03       137\n",
      "\n",
      "avg / total       0.98      0.98      0.98      8652\n",
      "\n",
      "Column :  military\n",
      "             precision    recall  f1-score   support\n",
      "\n",
      "          0       0.97      1.00      0.98      8376\n",
      "          1       0.55      0.08      0.13       276\n",
      "\n",
      "avg / total       0.96      0.97      0.96      8652\n",
      "\n",
      "Column :  child_alone\n",
      "             precision    recall  f1-score   support\n",
      "\n",
      "          0       1.00      1.00      1.00      8652\n",
      "\n",
      "avg / total       1.00      1.00      1.00      8652\n",
      "\n",
      "Column :  water\n",
      "             precision    recall  f1-score   support\n",
      "\n",
      "          0       0.96      0.99      0.98      8079\n",
      "          1       0.80      0.42      0.55       573\n",
      "\n",
      "avg / total       0.95      0.95      0.95      8652\n",
      "\n",
      "Column :  food\n",
      "             precision    recall  f1-score   support\n",
      "\n",
      "          0       0.93      0.99      0.96      7681\n",
      "          1       0.82      0.44      0.57       971\n",
      "\n",
      "avg / total       0.92      0.93      0.92      8652\n",
      "\n",
      "Column :  shelter\n",
      "             precision    recall  f1-score   support\n",
      "\n",
      "          0       0.93      0.99      0.96      7873\n",
      "          1       0.82      0.28      0.41       779\n",
      "\n",
      "avg / total       0.92      0.93      0.91      8652\n",
      "\n",
      "Column :  clothing\n",
      "             precision    recall  f1-score   support\n",
      "\n",
      "          0       0.99      1.00      0.99      8531\n",
      "          1       0.80      0.13      0.23       121\n",
      "\n",
      "avg / total       0.99      0.99      0.98      8652\n",
      "\n",
      "Column :  money\n",
      "             precision    recall  f1-score   support\n",
      "\n",
      "          0       0.98      1.00      0.99      8437\n",
      "          1       0.62      0.02      0.04       215\n",
      "\n",
      "avg / total       0.97      0.98      0.96      8652\n",
      "\n",
      "Column :  missing_people\n",
      "             precision    recall  f1-score   support\n",
      "\n",
      "          0       0.99      1.00      0.99      8558\n",
      "          1       0.00      0.00      0.00        94\n",
      "\n",
      "avg / total       0.98      0.99      0.98      8652\n",
      "\n",
      "Column :  refugees\n",
      "             precision    recall  f1-score   support\n",
      "\n",
      "          0       0.97      1.00      0.98      8362\n",
      "          1       0.52      0.04      0.08       290\n",
      "\n",
      "avg / total       0.95      0.97      0.95      8652\n",
      "\n",
      "Column :  death\n",
      "             precision    recall  f1-score   support\n",
      "\n",
      "          0       0.96      1.00      0.98      8270\n",
      "          1       0.74      0.12      0.20       382\n",
      "\n",
      "avg / total       0.95      0.96      0.94      8652\n",
      "\n",
      "Column :  other_aid\n",
      "             precision    recall  f1-score   support\n",
      "\n",
      "          0       0.87      0.99      0.93      7524\n",
      "          1       0.53      0.05      0.08      1128\n",
      "\n",
      "avg / total       0.83      0.87      0.82      8652\n",
      "\n",
      "Column :  infrastructure_related\n",
      "             precision    recall  f1-score   support\n",
      "\n",
      "          0       0.93      1.00      0.96      8071\n",
      "          1       0.29      0.01      0.01       581\n",
      "\n",
      "avg / total       0.89      0.93      0.90      8652\n",
      "\n",
      "Column :  transport\n",
      "             precision    recall  f1-score   support\n",
      "\n",
      "          0       0.96      1.00      0.98      8265\n",
      "          1       0.74      0.14      0.23       387\n",
      "\n",
      "avg / total       0.95      0.96      0.95      8652\n",
      "\n",
      "Column :  buildings\n",
      "             precision    recall  f1-score   support\n",
      "\n",
      "          0       0.96      1.00      0.98      8217\n",
      "          1       0.76      0.13      0.23       435\n",
      "\n",
      "avg / total       0.95      0.95      0.94      8652\n",
      "\n",
      "Column :  electricity\n",
      "             precision    recall  f1-score   support\n",
      "\n",
      "          0       0.98      1.00      0.99      8478\n",
      "          1       0.43      0.02      0.03       174\n",
      "\n",
      "avg / total       0.97      0.98      0.97      8652\n",
      "\n",
      "Column :  tools\n",
      "             precision    recall  f1-score   support\n",
      "\n",
      "          0       0.99      1.00      1.00      8598\n",
      "          1       0.00      0.00      0.00        54\n",
      "\n",
      "avg / total       0.99      0.99      0.99      8652\n",
      "\n",
      "Column :  hospitals\n",
      "             precision    recall  f1-score   support\n",
      "\n",
      "          0       0.99      1.00      0.99      8552\n",
      "          1       0.00      0.00      0.00       100\n",
      "\n",
      "avg / total       0.98      0.99      0.98      8652\n",
      "\n",
      "Column :  shops\n",
      "             precision    recall  f1-score   support\n",
      "\n",
      "          0       1.00      1.00      1.00      8615\n",
      "          1       0.00      0.00      0.00        37\n",
      "\n",
      "avg / total       0.99      1.00      0.99      8652\n",
      "\n",
      "Column :  aid_centers\n",
      "             precision    recall  f1-score   support\n",
      "\n",
      "          0       0.99      1.00      0.99      8543\n",
      "          1       0.00      0.00      0.00       109\n",
      "\n",
      "avg / total       0.97      0.99      0.98      8652\n",
      "\n",
      "Column :  other_infrastructure\n",
      "             precision    recall  f1-score   support\n",
      "\n",
      "          0       0.95      1.00      0.98      8259\n",
      "          1       0.00      0.00      0.00       393\n",
      "\n",
      "avg / total       0.91      0.95      0.93      8652\n",
      "\n",
      "Column :  weather_related\n",
      "             precision    recall  f1-score   support\n",
      "\n",
      "          0       0.86      0.95      0.90      6213\n",
      "          1       0.83      0.61      0.71      2439\n",
      "\n",
      "avg / total       0.85      0.86      0.85      8652\n",
      "\n",
      "Column :  floods\n",
      "             precision    recall  f1-score   support\n",
      "\n",
      "          0       0.95      1.00      0.97      7965\n",
      "          1       0.87      0.35      0.50       687\n",
      "\n",
      "avg / total       0.94      0.94      0.93      8652\n",
      "\n",
      "Column :  storm\n",
      "             precision    recall  f1-score   support\n",
      "\n",
      "          0       0.94      0.98      0.96      7803\n",
      "          1       0.76      0.45      0.57       849\n",
      "\n",
      "avg / total       0.93      0.93      0.92      8652\n",
      "\n",
      "Column :  fire\n",
      "             precision    recall  f1-score   support\n",
      "\n",
      "          0       0.99      1.00      1.00      8564\n",
      "          1       0.67      0.05      0.09        88\n",
      "\n",
      "avg / total       0.99      0.99      0.99      8652\n",
      "\n",
      "Column :  earthquake\n",
      "             precision    recall  f1-score   support\n",
      "\n",
      "          0       0.97      0.99      0.98      7833\n",
      "          1       0.88      0.69      0.78       819\n",
      "\n",
      "avg / total       0.96      0.96      0.96      8652\n",
      "\n",
      "Column :  cold\n",
      "             precision    recall  f1-score   support\n",
      "\n",
      "          0       0.98      1.00      0.99      8464\n",
      "          1       0.72      0.07      0.13       188\n",
      "\n",
      "avg / total       0.97      0.98      0.97      8652\n",
      "\n",
      "Column :  other_weather\n",
      "             precision    recall  f1-score   support\n",
      "\n",
      "          0       0.95      1.00      0.97      8187\n",
      "          1       0.60      0.08      0.13       465\n",
      "\n",
      "avg / total       0.93      0.95      0.93      8652\n",
      "\n",
      "Column :  direct_report\n",
      "             precision    recall  f1-score   support\n",
      "\n",
      "          0       0.85      0.97      0.91      6944\n",
      "          1       0.74      0.31      0.44      1708\n",
      "\n",
      "avg / total       0.83      0.84      0.82      8652\n",
      "\n"
     ]
    },
    {
     "name": "stderr",
     "output_type": "stream",
     "text": [
      "/opt/conda/lib/python3.6/site-packages/sklearn/metrics/classification.py:1135: UndefinedMetricWarning: Precision and F-score are ill-defined and being set to 0.0 in labels with no predicted samples.\n",
      "  'precision', 'predicted', average, warn_for)\n"
     ]
    }
   ],
   "source": [
    "from sklearn.metrics import accuracy_score, f1_score, classification_report, confusion_matrix;\n",
    "#print('acc ', accuracy_score(Y_test, Y_preds));\n",
    "#print('f1s', f1_score(Y_test, Y_preds))\n",
    "\n",
    "#classification_report(Y_test, Y_preds)\n",
    "for column in Y_test.columns:\n",
    "    print('Column : ' , column)\n",
    "    print(classification_report(Y_test[column], Y_preds[column]))"
   ]
  },
  {
   "cell_type": "code",
   "execution_count": 52,
   "metadata": {},
   "outputs": [],
   "source": [
    "cross_dict = [];\n",
    "cross_cols = [];\n",
    "for column_a in Y_test.columns:\n",
    "    cross_cols.append(column_a);\n",
    "    col_dict = {};\n",
    "    for column_b in Y_preds.columns:\n",
    "        #print(column_a, column_b, (foo[column_a] == bar[column_b]).sum())\n",
    "        col_dict[column_b] = (Y_test[column_a] == Y_preds[column_b]).sum()\n",
    "    \n",
    "    cross_dict.append(col_dict)\n",
    "    \n",
    "cross_dict = pd.DataFrame(cross_dict);\n",
    "cross_dict.index = cross_cols;"
   ]
  },
  {
   "cell_type": "code",
   "execution_count": 53,
   "metadata": {},
   "outputs": [
    {
     "data": {
      "text/plain": [
       "<matplotlib.colorbar.Colorbar at 0x7faa161d3668>"
      ]
     },
     "execution_count": 53,
     "metadata": {},
     "output_type": "execute_result"
    },
    {
     "data": {
      "image/png": "[encoded data removed]",
      "text/plain": [
       "<matplotlib.figure.Figure at 0x7faa161d3eb8>"
      ]
     },
     "metadata": {
      "needs_background": "light"
     },
     "output_type": "display_data"
    }
   ],
   "source": [
    "import matplotlib.pyplot as plt;\n",
    "import numpy as np;\n",
    "plt.matshow(cross_dict)\n",
    "\n",
    "plt.colorbar()"
   ]
  },
  {
   "cell_type": "code",
   "execution_count": 16,
   "metadata": {},
   "outputs": [
    {
     "name": "stdout",
     "output_type": "stream",
     "text": [
      "Avg of f1 scores:  0.944338495916\n"
     ]
    },
    {
     "data": {
      "image/png": "[encoded data removed]",
      "text/plain": [
       "<matplotlib.figure.Figure at 0x7f454e8572b0>"
      ]
     },
     "metadata": {
      "needs_background": "light"
     },
     "output_type": "display_data"
    }
   ],
   "source": [
    "score_dict = [];\n",
    "for column in Y_test.columns:\n",
    "    score = f1_score(Y_test[column], Y_preds[column], average='micro');\n",
    "    score_dict.append({'column' : column, 'score' : score});\n",
    "\n",
    "score_df = pd.DataFrame(score_dict);\n",
    "\n",
    "g = sns.barplot(score_df['column'], score_df['score']);\n",
    "for item in g.get_xticklabels():\n",
    "    item.set_rotation(90)\n",
    "    \n",
    "print('Avg of f1 scores: ', np.mean([val for x,val in score_df.values]))"
   ]
  },
  {
   "cell_type": "markdown",
   "metadata": {},
   "source": [
    "### 6. Improve your model\n",
    "Use grid search to find better parameters. "
   ]
  },
  {
   "cell_type": "code",
   "execution_count": 17,
   "metadata": {},
   "outputs": [],
   "source": [
    "from sklearn.model_selection import GridSearchCV;\n",
    "\n",
    "forest = RandomForestClassifier(n_estimators=10, random_state=1024);\n",
    "pipeline = Pipeline([('count', CountVectorizer(tokenizer=tokenize)),\n",
    "                     ('tfidf', TfidfTransformer()),\n",
    "                     ('model', MultiOutputClassifier(estimator=forest, n_jobs=1))\n",
    "                    ]);\n",
    "\n",
    "parameters = {'model__estimator__max_depth' : [5, 10], 'model__estimator__max_features' : [5, 10], 'model__estimator__criterion' : ['gini', 'entropy']};\n",
    "\n",
    "cv = GridSearchCV(pipeline, param_grid=parameters, verbose=2);"
   ]
  },
  {
   "cell_type": "code",
   "execution_count": 18,
   "metadata": {},
   "outputs": [
    {
     "name": "stdout",
     "output_type": "stream",
     "text": [
      "Fitting 3 folds for each of 8 candidates, totalling 24 fits\n",
      "[CV] model__estimator__criterion=gini, model__estimator__max_depth=5, model__estimator__max_features=5 \n",
      "[CV]  model__estimator__criterion=gini, model__estimator__max_depth=5, model__estimator__max_features=5, total= 1.3min\n",
      "[CV] model__estimator__criterion=gini, model__estimator__max_depth=5, model__estimator__max_features=5 \n"
     ]
    },
    {
     "name": "stderr",
     "output_type": "stream",
     "text": [
      "[Parallel(n_jobs=1)]: Done   1 out of   1 | elapsed:  2.2min remaining:    0.0s\n"
     ]
    },
    {
     "name": "stdout",
     "output_type": "stream",
     "text": [
      "[CV]  model__estimator__criterion=gini, model__estimator__max_depth=5, model__estimator__max_features=5, total= 1.3min\n",
      "[CV] model__estimator__criterion=gini, model__estimator__max_depth=5, model__estimator__max_features=5 \n",
      "[CV]  model__estimator__criterion=gini, model__estimator__max_depth=5, model__estimator__max_features=5, total= 1.3min\n",
      "[CV] model__estimator__criterion=gini, model__estimator__max_depth=5, model__estimator__max_features=10 \n",
      "[CV]  model__estimator__criterion=gini, model__estimator__max_depth=5, model__estimator__max_features=10, total= 1.3min\n",
      "[CV] model__estimator__criterion=gini, model__estimator__max_depth=5, model__estimator__max_features=10 \n",
      "[CV]  model__estimator__criterion=gini, model__estimator__max_depth=5, model__estimator__max_features=10, total= 1.3min\n",
      "[CV] model__estimator__criterion=gini, model__estimator__max_depth=5, model__estimator__max_features=10 \n",
      "[CV]  model__estimator__criterion=gini, model__estimator__max_depth=5, model__estimator__max_features=10, total= 1.3min\n",
      "[CV] model__estimator__criterion=gini, model__estimator__max_depth=10, model__estimator__max_features=5 \n",
      "[CV]  model__estimator__criterion=gini, model__estimator__max_depth=10, model__estimator__max_features=5, total= 1.3min\n",
      "[CV] model__estimator__criterion=gini, model__estimator__max_depth=10, model__estimator__max_features=5 \n",
      "[CV]  model__estimator__criterion=gini, model__estimator__max_depth=10, model__estimator__max_features=5, total= 1.3min\n",
      "[CV] model__estimator__criterion=gini, model__estimator__max_depth=10, model__estimator__max_features=5 \n",
      "[CV]  model__estimator__criterion=gini, model__estimator__max_depth=10, model__estimator__max_features=5, total= 1.3min\n",
      "[CV] model__estimator__criterion=gini, model__estimator__max_depth=10, model__estimator__max_features=10 \n",
      "[CV]  model__estimator__criterion=gini, model__estimator__max_depth=10, model__estimator__max_features=10, total= 1.3min\n",
      "[CV] model__estimator__criterion=gini, model__estimator__max_depth=10, model__estimator__max_features=10 \n",
      "[CV]  model__estimator__criterion=gini, model__estimator__max_depth=10, model__estimator__max_features=10, total= 1.3min\n",
      "[CV] model__estimator__criterion=gini, model__estimator__max_depth=10, model__estimator__max_features=10 \n",
      "[CV]  model__estimator__criterion=gini, model__estimator__max_depth=10, model__estimator__max_features=10, total= 1.3min\n",
      "[CV] model__estimator__criterion=entropy, model__estimator__max_depth=5, model__estimator__max_features=5 \n",
      "[CV]  model__estimator__criterion=entropy, model__estimator__max_depth=5, model__estimator__max_features=5, total= 1.3min\n",
      "[CV] model__estimator__criterion=entropy, model__estimator__max_depth=5, model__estimator__max_features=5 \n",
      "[CV]  model__estimator__criterion=entropy, model__estimator__max_depth=5, model__estimator__max_features=5, total= 1.3min\n",
      "[CV] model__estimator__criterion=entropy, model__estimator__max_depth=5, model__estimator__max_features=5 \n",
      "[CV]  model__estimator__criterion=entropy, model__estimator__max_depth=5, model__estimator__max_features=5, total= 1.3min\n",
      "[CV] model__estimator__criterion=entropy, model__estimator__max_depth=5, model__estimator__max_features=10 \n",
      "[CV]  model__estimator__criterion=entropy, model__estimator__max_depth=5, model__estimator__max_features=10, total= 1.3min\n",
      "[CV] model__estimator__criterion=entropy, model__estimator__max_depth=5, model__estimator__max_features=10 \n",
      "[CV]  model__estimator__criterion=entropy, model__estimator__max_depth=5, model__estimator__max_features=10, total= 1.3min\n",
      "[CV] model__estimator__criterion=entropy, model__estimator__max_depth=5, model__estimator__max_features=10 \n",
      "[CV]  model__estimator__criterion=entropy, model__estimator__max_depth=5, model__estimator__max_features=10, total= 1.3min\n",
      "[CV] model__estimator__criterion=entropy, model__estimator__max_depth=10, model__estimator__max_features=5 \n",
      "[CV]  model__estimator__criterion=entropy, model__estimator__max_depth=10, model__estimator__max_features=5, total= 1.3min\n",
      "[CV] model__estimator__criterion=entropy, model__estimator__max_depth=10, model__estimator__max_features=5 \n",
      "[CV]  model__estimator__criterion=entropy, model__estimator__max_depth=10, model__estimator__max_features=5, total= 1.3min\n",
      "[CV] model__estimator__criterion=entropy, model__estimator__max_depth=10, model__estimator__max_features=5 \n",
      "[CV]  model__estimator__criterion=entropy, model__estimator__max_depth=10, model__estimator__max_features=5, total= 1.3min\n",
      "[CV] model__estimator__criterion=entropy, model__estimator__max_depth=10, model__estimator__max_features=10 \n",
      "[CV]  model__estimator__criterion=entropy, model__estimator__max_depth=10, model__estimator__max_features=10, total= 1.3min\n",
      "[CV] model__estimator__criterion=entropy, model__estimator__max_depth=10, model__estimator__max_features=10 \n",
      "[CV]  model__estimator__criterion=entropy, model__estimator__max_depth=10, model__estimator__max_features=10, total= 1.3min\n",
      "[CV] model__estimator__criterion=entropy, model__estimator__max_depth=10, model__estimator__max_features=10 \n",
      "[CV]  model__estimator__criterion=entropy, model__estimator__max_depth=10, model__estimator__max_features=10, total= 1.3min\n"
     ]
    },
    {
     "name": "stderr",
     "output_type": "stream",
     "text": [
      "[Parallel(n_jobs=1)]: Done  24 out of  24 | elapsed: 51.5min finished\n"
     ]
    }
   ],
   "source": [
    "cv.fit(X_train, Y_train);"
   ]
  },
  {
   "cell_type": "code",
   "execution_count": 21,
   "metadata": {},
   "outputs": [
    {
     "data": {
      "text/plain": [
       "{'model__estimator__criterion': 'gini',\n",
       " 'model__estimator__max_depth': 5,\n",
       " 'model__estimator__max_features': 5}"
      ]
     },
     "execution_count": 21,
     "metadata": {},
     "output_type": "execute_result"
    }
   ],
   "source": [
    "cv.best_params_"
   ]
  },
  {
   "cell_type": "markdown",
   "metadata": {},
   "source": [
    "### 7. Test your model\n",
    "Show the accuracy, precision, and recall of the tuned model.  \n",
    "\n",
    "Since this project focuses on code quality, process, and  pipelines, there is no minimum performance metric needed to pass. However, make sure to fine tune your models for accuracy, precision and recall to make your project stand out - especially for your portfolio!"
   ]
  },
  {
   "cell_type": "code",
   "execution_count": 17,
   "metadata": {},
   "outputs": [],
   "source": [
    "forest = RandomForestClassifier(n_estimators=10, random_state=1024, criterion='gini', max_depth=5, max_features=5);\n",
    "pipeline = Pipeline([('count', CountVectorizer(tokenizer=tokenize)),\n",
    "                     ('tfidf', TfidfTransformer()),\n",
    "                     ('model', MultiOutputClassifier(estimator=forest, n_jobs=1))\n",
    "                    ]);\n",
    "\n",
    "pipeline.fit(X_train, Y_train);\n",
    "\n",
    "Y_preds = pipeline.predict(X_test);"
   ]
  },
  {
   "cell_type": "code",
   "execution_count": 18,
   "metadata": {},
   "outputs": [
    {
     "name": "stdout",
     "output_type": "stream",
     "text": [
      "Column :  related\n",
      "             precision    recall  f1-score   support\n",
      "\n",
      "          0       0.00      0.00      0.00      2005\n",
      "          1       0.76      1.00      0.86      6585\n",
      "          2       0.00      0.00      0.00        62\n",
      "\n",
      "avg / total       0.58      0.76      0.66      8652\n",
      "\n",
      "Column :  request\n",
      "             precision    recall  f1-score   support\n",
      "\n",
      "          0       0.83      1.00      0.91      7154\n",
      "          1       0.00      0.00      0.00      1498\n",
      "\n",
      "avg / total       0.68      0.83      0.75      8652\n",
      "\n",
      "Column :  offer\n",
      "             precision    recall  f1-score   support\n",
      "\n",
      "          0       1.00      1.00      1.00      8615\n",
      "          1       0.00      0.00      0.00        37\n",
      "\n",
      "avg / total       0.99      1.00      0.99      8652\n",
      "\n",
      "Column :  aid_related\n",
      "             precision    recall  f1-score   support\n",
      "\n",
      "          0       0.58      1.00      0.74      5056\n",
      "          1       1.00      0.00      0.00      3596\n",
      "\n",
      "avg / total       0.76      0.58      0.43      8652\n",
      "\n",
      "Column :  medical_help\n",
      "             precision    recall  f1-score   support\n",
      "\n",
      "          0       0.92      1.00      0.96      7977\n",
      "          1       0.00      0.00      0.00       675\n",
      "\n",
      "avg / total       0.85      0.92      0.88      8652\n",
      "\n",
      "Column :  medical_products\n",
      "             precision    recall  f1-score   support\n",
      "\n",
      "          0       0.95      1.00      0.98      8246\n",
      "          1       0.00      0.00      0.00       406\n",
      "\n",
      "avg / total       0.91      0.95      0.93      8652\n",
      "\n",
      "Column :  search_and_rescue\n",
      "             precision    recall  f1-score   support\n",
      "\n",
      "          0       0.97      1.00      0.99      8397\n",
      "          1       0.00      0.00      0.00       255\n",
      "\n",
      "avg / total       0.94      0.97      0.96      8652\n",
      "\n",
      "Column :  security\n",
      "             precision    recall  f1-score   support\n",
      "\n",
      "          0       0.98      1.00      0.99      8515\n",
      "          1       0.00      0.00      0.00       137\n",
      "\n",
      "avg / total       0.97      0.98      0.98      8652\n",
      "\n",
      "Column :  military\n",
      "             precision    recall  f1-score   support\n",
      "\n",
      "          0       0.97      1.00      0.98      8376\n",
      "          1       0.00      0.00      0.00       276\n",
      "\n",
      "avg / total       0.94      0.97      0.95      8652\n",
      "\n",
      "Column :  child_alone\n",
      "             precision    recall  f1-score   support\n",
      "\n",
      "          0       1.00      1.00      1.00      8652\n",
      "\n",
      "avg / total       1.00      1.00      1.00      8652\n",
      "\n",
      "Column :  water\n",
      "             precision    recall  f1-score   support\n",
      "\n",
      "          0       0.93      1.00      0.97      8079\n",
      "          1       0.00      0.00      0.00       573\n",
      "\n",
      "avg / total       0.87      0.93      0.90      8652\n",
      "\n",
      "Column :  food\n",
      "             precision    recall  f1-score   support\n",
      "\n",
      "          0       0.89      1.00      0.94      7681\n",
      "          1       0.00      0.00      0.00       971\n",
      "\n",
      "avg / total       0.79      0.89      0.83      8652\n",
      "\n",
      "Column :  shelter\n",
      "             precision    recall  f1-score   support\n",
      "\n",
      "          0       0.91      1.00      0.95      7873\n",
      "          1       0.00      0.00      0.00       779\n",
      "\n",
      "avg / total       0.83      0.91      0.87      8652\n",
      "\n",
      "Column :  clothing\n",
      "             precision    recall  f1-score   support\n",
      "\n",
      "          0       0.99      1.00      0.99      8531\n",
      "          1       0.00      0.00      0.00       121\n",
      "\n",
      "avg / total       0.97      0.99      0.98      8652\n",
      "\n",
      "Column :  money\n",
      "             precision    recall  f1-score   support\n",
      "\n",
      "          0       0.98      1.00      0.99      8437\n",
      "          1       0.00      0.00      0.00       215\n",
      "\n",
      "avg / total       0.95      0.98      0.96      8652\n",
      "\n",
      "Column :  missing_people\n",
      "             precision    recall  f1-score   support\n",
      "\n",
      "          0       0.99      1.00      0.99      8558\n",
      "          1       0.00      0.00      0.00        94\n",
      "\n",
      "avg / total       0.98      0.99      0.98      8652\n",
      "\n",
      "Column :  refugees\n",
      "             precision    recall  f1-score   support\n",
      "\n",
      "          0       0.97      1.00      0.98      8362\n",
      "          1       0.00      0.00      0.00       290\n",
      "\n",
      "avg / total       0.93      0.97      0.95      8652\n",
      "\n",
      "Column :  death\n",
      "             precision    recall  f1-score   support\n",
      "\n",
      "          0       0.96      1.00      0.98      8270\n",
      "          1       0.00      0.00      0.00       382\n",
      "\n",
      "avg / total       0.91      0.96      0.93      8652\n",
      "\n",
      "Column :  other_aid\n",
      "             precision    recall  f1-score   support\n",
      "\n",
      "          0       0.87      1.00      0.93      7524\n",
      "          1       0.00      0.00      0.00      1128\n",
      "\n",
      "avg / total       0.76      0.87      0.81      8652\n",
      "\n",
      "Column :  infrastructure_related\n",
      "             precision    recall  f1-score   support\n",
      "\n",
      "          0       0.93      1.00      0.97      8071\n",
      "          1       0.00      0.00      0.00       581\n",
      "\n",
      "avg / total       0.87      0.93      0.90      8652\n",
      "\n",
      "Column :  transport\n",
      "             precision    recall  f1-score   support\n",
      "\n",
      "          0       0.96      1.00      0.98      8265\n",
      "          1       0.00      0.00      0.00       387\n",
      "\n",
      "avg / total       0.91      0.96      0.93      8652\n",
      "\n",
      "Column :  buildings\n",
      "             precision    recall  f1-score   support\n",
      "\n",
      "          0       0.95      1.00      0.97      8217\n",
      "          1       0.00      0.00      0.00       435\n",
      "\n",
      "avg / total       0.90      0.95      0.93      8652\n",
      "\n",
      "Column :  electricity\n",
      "             precision    recall  f1-score   support\n",
      "\n",
      "          0       0.98      1.00      0.99      8478\n",
      "          1       0.00      0.00      0.00       174\n",
      "\n",
      "avg / total       0.96      0.98      0.97      8652\n",
      "\n",
      "Column :  tools\n",
      "             precision    recall  f1-score   support\n",
      "\n",
      "          0       0.99      1.00      1.00      8598\n",
      "          1       0.00      0.00      0.00        54\n",
      "\n",
      "avg / total       0.99      0.99      0.99      8652\n",
      "\n",
      "Column :  hospitals\n",
      "             precision    recall  f1-score   support\n",
      "\n",
      "          0       0.99      1.00      0.99      8552\n",
      "          1       0.00      0.00      0.00       100\n",
      "\n",
      "avg / total       0.98      0.99      0.98      8652\n",
      "\n",
      "Column :  shops\n",
      "             precision    recall  f1-score   support\n",
      "\n",
      "          0       1.00      1.00      1.00      8615\n",
      "          1       0.00      0.00      0.00        37\n",
      "\n",
      "avg / total       0.99      1.00      0.99      8652\n",
      "\n",
      "Column :  aid_centers\n",
      "             precision    recall  f1-score   support\n",
      "\n",
      "          0       0.99      1.00      0.99      8543\n",
      "          1       0.00      0.00      0.00       109\n",
      "\n",
      "avg / total       0.97      0.99      0.98      8652\n",
      "\n",
      "Column :  other_infrastructure\n",
      "             precision    recall  f1-score   support\n",
      "\n",
      "          0       0.95      1.00      0.98      8259\n",
      "          1       0.00      0.00      0.00       393\n",
      "\n",
      "avg / total       0.91      0.95      0.93      8652\n",
      "\n",
      "Column :  weather_related\n",
      "             precision    recall  f1-score   support\n",
      "\n",
      "          0       0.72      1.00      0.84      6213\n",
      "          1       0.00      0.00      0.00      2439\n",
      "\n",
      "avg / total       0.52      0.72      0.60      8652\n",
      "\n",
      "Column :  floods\n",
      "             precision    recall  f1-score   support\n",
      "\n",
      "          0       0.92      1.00      0.96      7965\n",
      "          1       0.00      0.00      0.00       687\n",
      "\n",
      "avg / total       0.85      0.92      0.88      8652\n",
      "\n",
      "Column :  storm\n",
      "             precision    recall  f1-score   support\n",
      "\n",
      "          0       0.90      1.00      0.95      7803\n",
      "          1       0.00      0.00      0.00       849\n",
      "\n",
      "avg / total       0.81      0.90      0.86      8652\n",
      "\n",
      "Column :  fire\n",
      "             precision    recall  f1-score   support\n",
      "\n",
      "          0       0.99      1.00      0.99      8564\n",
      "          1       0.00      0.00      0.00        88\n",
      "\n",
      "avg / total       0.98      0.99      0.98      8652\n",
      "\n",
      "Column :  earthquake\n",
      "             precision    recall  f1-score   support\n",
      "\n",
      "          0       0.91      1.00      0.95      7833\n",
      "          1       0.00      0.00      0.00       819\n",
      "\n",
      "avg / total       0.82      0.91      0.86      8652\n",
      "\n",
      "Column :  cold\n",
      "             precision    recall  f1-score   support\n",
      "\n",
      "          0       0.98      1.00      0.99      8464\n",
      "          1       0.00      0.00      0.00       188\n",
      "\n",
      "avg / total       0.96      0.98      0.97      8652\n",
      "\n",
      "Column :  other_weather\n",
      "             precision    recall  f1-score   support\n",
      "\n",
      "          0       0.95      1.00      0.97      8187\n",
      "          1       0.00      0.00      0.00       465\n",
      "\n",
      "avg / total       0.90      0.95      0.92      8652\n",
      "\n",
      "Column :  direct_report\n",
      "             precision    recall  f1-score   support\n",
      "\n",
      "          0       0.80      1.00      0.89      6944\n",
      "          1       0.00      0.00      0.00      1708\n",
      "\n",
      "avg / total       0.64      0.80      0.71      8652\n",
      "\n"
     ]
    },
    {
     "name": "stderr",
     "output_type": "stream",
     "text": [
      "/opt/conda/lib/python3.6/site-packages/sklearn/metrics/classification.py:1135: UndefinedMetricWarning: Precision and F-score are ill-defined and being set to 0.0 in labels with no predicted samples.\n",
      "  'precision', 'predicted', average, warn_for)\n"
     ]
    }
   ],
   "source": [
    "Y_preds = pd.DataFrame(Y_preds);\n",
    "Y_preds.columns = Y_test.columns;\n",
    "Y_preds.index = Y_test.index;\n",
    "\n",
    "for column in Y_test.columns:\n",
    "    print('Column : ' , column)\n",
    "    print(classification_report(Y_test[column], Y_preds[column]))"
   ]
  },
  {
   "cell_type": "code",
   "execution_count": 20,
   "metadata": {},
   "outputs": [
    {
     "name": "stdout",
     "output_type": "stream",
     "text": [
      "Avg of f1 scores:  0.926124980737\n"
     ]
    },
    {
     "data": {
      "image/png": "[encoded data removed]",
      "text/plain": [
       "<matplotlib.figure.Figure at 0x7f454e6c6f28>"
      ]
     },
     "metadata": {
      "needs_background": "light"
     },
     "output_type": "display_data"
    }
   ],
   "source": [
    "score_dict = [];\n",
    "for column in Y_test.columns:\n",
    "    score = f1_score(Y_test[column], Y_preds[column], average='micro');\n",
    "    score_dict.append({'column' : column, 'score' : score});\n",
    "\n",
    "score_df = pd.DataFrame(score_dict);\n",
    "\n",
    "g = sns.barplot(score_df['column'], score_df['score']);\n",
    "for item in g.get_xticklabels():\n",
    "    item.set_rotation(90)\n",
    "    \n",
    "print('Avg of f1 scores: ', np.mean([val for x,val in score_df.values]))"
   ]
  },
  {
   "cell_type": "markdown",
   "metadata": {},
   "source": [
    "### 8. Try improving your model further. Here are a few ideas:\n",
    "* try other machine learning algorithms\n",
    "* add other features besides the TF-IDF"
   ]
  },
  {
   "cell_type": "code",
   "execution_count": 27,
   "metadata": {},
   "outputs": [],
   "source": [
    "forest = RandomForestClassifier(n_estimators=30, random_state=1024, criterion='gini', max_depth=5, max_features=5);\n",
    "\n",
    "pipeline = Pipeline([('count', CountVectorizer(tokenizer=tokenize)),\n",
    "                     ('tfidf', TfidfTransformer()),\n",
    "                     ('model', MultiOutputClassifier(estimator=forest, n_jobs=1))\n",
    "                    ]);\n",
    "\n",
    "pipeline.fit(X_train, Y_train);\n",
    "\n",
    "Y_preds = pipeline.predict(X_test);"
   ]
  },
  {
   "cell_type": "code",
   "execution_count": 29,
   "metadata": {},
   "outputs": [
    {
     "name": "stdout",
     "output_type": "stream",
     "text": [
      "Avg of f1 scores:  0.926115349052\n"
     ]
    },
    {
     "data": {
      "image/png": "[encoded data removed]",
      "text/plain": [
       "<matplotlib.figure.Figure at 0x7f454dc92eb8>"
      ]
     },
     "metadata": {
      "needs_background": "light"
     },
     "output_type": "display_data"
    }
   ],
   "source": [
    "Y_preds = pd.DataFrame(Y_preds);\n",
    "Y_preds.columns = Y_test.columns;\n",
    "Y_preds.index = Y_test.index;\n",
    "\n",
    "score_dict = [];\n",
    "for column in Y_test.columns:\n",
    "    score = f1_score(Y_test[column], Y_preds[column], average='micro');\n",
    "    score_dict.append({'column' : column, 'score' : score});\n",
    "\n",
    "score_df = pd.DataFrame(score_dict);\n",
    "\n",
    "g = sns.barplot(score_df['column'], score_df['score']);\n",
    "for item in g.get_xticklabels():\n",
    "    item.set_rotation(90)\n",
    "    \n",
    "print('Avg of f1 scores: ', np.mean([val for x,val in score_df.values]))"
   ]
  },
  {
   "cell_type": "markdown",
   "metadata": {},
   "source": [
    "### 9. Export your model as a pickle file"
   ]
  },
  {
   "cell_type": "code",
   "execution_count": 35,
   "metadata": {},
   "outputs": [],
   "source": [
    "import pickle;\n",
    "\n",
    "pickle.dump(forest, open('forest.pkl', 'wb'));\n",
    "pickle.dump(pipeline, open('pipeline.pkl', 'wb'));"
   ]
  },
  {
   "cell_type": "markdown",
   "metadata": {},
   "source": [
    "### 10. Use this notebook to complete `train.py`\n",
    "Use the template file attached in the Resources folder to write a script that runs the steps above to create a database and export a model based on a new dataset specified by the user."
   ]
  }
 ],
 "metadata": {
  "kernelspec": {
   "display_name": "Python 3",
   "language": "python",
   "name": "python3"
  },
  "language_info": {
   "codemirror_mode": {
    "name": "ipython",
    "version": 3
   },
   "file_extension": ".py",
   "mimetype": "text/x-python",
   "name": "python",
   "nbconvert_exporter": "python",
   "pygments_lexer": "ipython3",
   "version": "3.6.3"
  }
 },
 "nbformat": 4,
 "nbformat_minor": 2
}
